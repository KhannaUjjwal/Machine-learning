{
  "nbformat": 4,
  "nbformat_minor": 0,
  "metadata": {
    "colab": {
      "name": "Untitled0.ipynb",
      "provenance": [],
      "authorship_tag": "ABX9TyMAJjXGmN1J+I7KVLkGhqjb",
      "include_colab_link": true
    },
    "kernelspec": {
      "name": "python3",
      "display_name": "Python 3"
    }
  },
  "cells": [
    {
      "cell_type": "markdown",
      "metadata": {
        "id": "view-in-github",
        "colab_type": "text"
      },
      "source": [
        "<a href=\"https://colab.research.google.com/github/KhannaUjjwal/Machine-learning/blob/main/Untitled0.ipynb\" target=\"_parent\"><img src=\"https://colab.research.google.com/assets/colab-badge.svg\" alt=\"Open In Colab\"/></a>"
      ]
    },
    {
      "cell_type": "markdown",
      "metadata": {
        "id": "ve7FwRZK2KM8"
      },
      "source": [
        "First Statement is for importing libraries"
      ]
    },
    {
      "cell_type": "code",
      "metadata": {
        "id": "1dHHuSK52Jvu"
      },
      "source": [
        "import pandas as pd \r\n",
        "import numpy as np\r\n",
        "imjport matplotlib.pylot as plt"
      ],
      "execution_count": 1,
      "outputs": []
    },
    {
      "cell_type": "markdown",
      "metadata": {
        "id": "SPsZ3dEI3J-k"
      },
      "source": [
        "Create a Dataframe"
      ]
    },
    {
      "cell_type": "code",
      "metadata": {
        "colab": {
          "base_uri": "https://localhost:8080/"
        },
        "id": "5gvZD20C2t5c",
        "outputId": "2ec57dba-960d-483c-d046-37f627f45b3d"
      },
      "source": [
        "columns = ['name','age','gender','job']\r\n",
        "user1 = pd.DataFrame([['Ujjwal',21,'M','Student'],\r\n",
        "['Samar',20,'M','Student']],\r\n",
        "columns=columns)\r\n",
        "user2 = pd.DataFrame([['Sahil',22,'M','Student'],\r\n",
        "['Suryansh',19,'M','Manager']],columns=columns)\r\n",
        "user3 = pd.DataFrame(dict(name=['Rahul','Rimmy'],\r\n",
        "age=[33,44], gender=['M','F'],\r\n",
        "job=['engineer','scientist']))\r\n",
        "user1.append(user2)\r\n",
        "users = pd.concat([user1, user2, user3])\r\n",
        "print(users)"
      ],
      "execution_count": 35,
      "outputs": [
        {
          "output_type": "stream",
          "text": [
            "       name  age gender        job\n",
            "0    Ujjwal   21      M    Student\n",
            "1     Samar   20      M    Student\n",
            "0     Sahil   22      M    Student\n",
            "1  Suryansh   19      M    Manager\n",
            "0     Rahul   33      M   engineer\n",
            "1     Rimmy   44      F  scientist\n"
          ],
          "name": "stdout"
        }
      ]
    },
    {
      "cell_type": "code",
      "metadata": {
        "colab": {
          "base_uri": "https://localhost:8080/"
        },
        "id": "rwkEoIGe7O_F",
        "outputId": "2a2f68b9-45e8-4432-a83e-2607113d8320"
      },
      "source": [
        "type(users)"
      ],
      "execution_count": 8,
      "outputs": [
        {
          "output_type": "execute_result",
          "data": {
            "text/plain": [
              "pandas.core.frame.DataFrame"
            ]
          },
          "metadata": {
            "tags": []
          },
          "execution_count": 8
        }
      ]
    },
    {
      "cell_type": "code",
      "metadata": {
        "colab": {
          "base_uri": "https://localhost:8080/",
          "height": 204
        },
        "id": "5nIKicWB7aOc",
        "outputId": "ede8f7cb-a0cc-44ec-deec-5bafac3eb27f"
      },
      "source": [
        "users.head()"
      ],
      "execution_count": 9,
      "outputs": [
        {
          "output_type": "execute_result",
          "data": {
            "text/html": [
              "<div>\n",
              "<style scoped>\n",
              "    .dataframe tbody tr th:only-of-type {\n",
              "        vertical-align: middle;\n",
              "    }\n",
              "\n",
              "    .dataframe tbody tr th {\n",
              "        vertical-align: top;\n",
              "    }\n",
              "\n",
              "    .dataframe thead th {\n",
              "        text-align: right;\n",
              "    }\n",
              "</style>\n",
              "<table border=\"1\" class=\"dataframe\">\n",
              "  <thead>\n",
              "    <tr style=\"text-align: right;\">\n",
              "      <th></th>\n",
              "      <th>name</th>\n",
              "      <th>age</th>\n",
              "      <th>gender</th>\n",
              "      <th>job</th>\n",
              "    </tr>\n",
              "  </thead>\n",
              "  <tbody>\n",
              "    <tr>\n",
              "      <th>0</th>\n",
              "      <td>Ujjwal</td>\n",
              "      <td>21</td>\n",
              "      <td>M</td>\n",
              "      <td>Student</td>\n",
              "    </tr>\n",
              "    <tr>\n",
              "      <th>1</th>\n",
              "      <td>Samar</td>\n",
              "      <td>20</td>\n",
              "      <td>M</td>\n",
              "      <td>Student</td>\n",
              "    </tr>\n",
              "    <tr>\n",
              "      <th>0</th>\n",
              "      <td>Sahil</td>\n",
              "      <td>22</td>\n",
              "      <td>M</td>\n",
              "      <td>Student</td>\n",
              "    </tr>\n",
              "    <tr>\n",
              "      <th>1</th>\n",
              "      <td>Suryansh</td>\n",
              "      <td>19</td>\n",
              "      <td>M</td>\n",
              "      <td>Manager</td>\n",
              "    </tr>\n",
              "    <tr>\n",
              "      <th>0</th>\n",
              "      <td>Rahul</td>\n",
              "      <td>33</td>\n",
              "      <td>M</td>\n",
              "      <td>engineer</td>\n",
              "    </tr>\n",
              "  </tbody>\n",
              "</table>\n",
              "</div>"
            ],
            "text/plain": [
              "       name age gender       job\n",
              "0    Ujjwal  21      M   Student\n",
              "1     Samar  20      M   Student\n",
              "0     Sahil  22      M   Student\n",
              "1  Suryansh  19      M   Manager\n",
              "0     Rahul  33      M  engineer"
            ]
          },
          "metadata": {
            "tags": []
          },
          "execution_count": 9
        }
      ]
    },
    {
      "cell_type": "code",
      "metadata": {
        "colab": {
          "base_uri": "https://localhost:8080/",
          "height": 204
        },
        "id": "OP_1n35u8ZeW",
        "outputId": "3b7db328-bac1-499a-e77e-1604f5b097c8"
      },
      "source": [
        "users.tail()"
      ],
      "execution_count": 16,
      "outputs": [
        {
          "output_type": "execute_result",
          "data": {
            "text/html": [
              "<div>\n",
              "<style scoped>\n",
              "    .dataframe tbody tr th:only-of-type {\n",
              "        vertical-align: middle;\n",
              "    }\n",
              "\n",
              "    .dataframe tbody tr th {\n",
              "        vertical-align: top;\n",
              "    }\n",
              "\n",
              "    .dataframe thead th {\n",
              "        text-align: right;\n",
              "    }\n",
              "</style>\n",
              "<table border=\"1\" class=\"dataframe\">\n",
              "  <thead>\n",
              "    <tr style=\"text-align: right;\">\n",
              "      <th></th>\n",
              "      <th>name</th>\n",
              "      <th>age</th>\n",
              "      <th>gender</th>\n",
              "      <th>job</th>\n",
              "    </tr>\n",
              "  </thead>\n",
              "  <tbody>\n",
              "    <tr>\n",
              "      <th>1</th>\n",
              "      <td>Samar</td>\n",
              "      <td>20</td>\n",
              "      <td>M</td>\n",
              "      <td>Student</td>\n",
              "    </tr>\n",
              "    <tr>\n",
              "      <th>0</th>\n",
              "      <td>Sahil</td>\n",
              "      <td>22</td>\n",
              "      <td>M</td>\n",
              "      <td>Student</td>\n",
              "    </tr>\n",
              "    <tr>\n",
              "      <th>1</th>\n",
              "      <td>Suryansh</td>\n",
              "      <td>19</td>\n",
              "      <td>M</td>\n",
              "      <td>Manager</td>\n",
              "    </tr>\n",
              "    <tr>\n",
              "      <th>0</th>\n",
              "      <td>Rahul</td>\n",
              "      <td>33</td>\n",
              "      <td>M</td>\n",
              "      <td>engineer</td>\n",
              "    </tr>\n",
              "    <tr>\n",
              "      <th>1</th>\n",
              "      <td>Rimmy</td>\n",
              "      <td>44</td>\n",
              "      <td>F</td>\n",
              "      <td>scientist</td>\n",
              "    </tr>\n",
              "  </tbody>\n",
              "</table>\n",
              "</div>"
            ],
            "text/plain": [
              "       name age gender        job\n",
              "1     Samar  20      M    Student\n",
              "0     Sahil  22      M    Student\n",
              "1  Suryansh  19      M    Manager\n",
              "0     Rahul  33      M   engineer\n",
              "1     Rimmy  44      F  scientist"
            ]
          },
          "metadata": {
            "tags": []
          },
          "execution_count": 16
        }
      ]
    },
    {
      "cell_type": "code",
      "metadata": {
        "colab": {
          "base_uri": "https://localhost:8080/"
        },
        "id": "JN3CqN5e8C4-",
        "outputId": "d40c41d1-87d7-4013-b139-dbef8be33c0d"
      },
      "source": [
        "users.index"
      ],
      "execution_count": 11,
      "outputs": [
        {
          "output_type": "execute_result",
          "data": {
            "text/plain": [
              "Int64Index([0, 1, 0, 1, 0, 1], dtype='int64')"
            ]
          },
          "metadata": {
            "tags": []
          },
          "execution_count": 11
        }
      ]
    },
    {
      "cell_type": "code",
      "metadata": {
        "colab": {
          "base_uri": "https://localhost:8080/"
        },
        "id": "oOBudZd-8LCV",
        "outputId": "a3652b48-4457-4627-ec5e-7779e14e0aed"
      },
      "source": [
        "users.columns"
      ],
      "execution_count": 13,
      "outputs": [
        {
          "output_type": "execute_result",
          "data": {
            "text/plain": [
              "Index(['name', 'age', 'gender', 'job'], dtype='object')"
            ]
          },
          "metadata": {
            "tags": []
          },
          "execution_count": 13
        }
      ]
    },
    {
      "cell_type": "code",
      "metadata": {
        "colab": {
          "base_uri": "https://localhost:8080/"
        },
        "id": "CRbSM1mP8P7d",
        "outputId": "6e8a6ff0-7030-47f5-d23a-b52d1b5ae9b6"
      },
      "source": [
        "users.dtypes"
      ],
      "execution_count": 36,
      "outputs": [
        {
          "output_type": "execute_result",
          "data": {
            "text/plain": [
              "name      object\n",
              "age        int64\n",
              "gender    object\n",
              "job       object\n",
              "dtype: object"
            ]
          },
          "metadata": {
            "tags": []
          },
          "execution_count": 36
        }
      ]
    },
    {
      "cell_type": "code",
      "metadata": {
        "colab": {
          "base_uri": "https://localhost:8080/"
        },
        "id": "YITrqfLF8UJV",
        "outputId": "b9563565-ee3f-4358-a485-f0f9efa65d25"
      },
      "source": [
        "users.shape"
      ],
      "execution_count": 15,
      "outputs": [
        {
          "output_type": "execute_result",
          "data": {
            "text/plain": [
              "(6, 4)"
            ]
          },
          "metadata": {
            "tags": []
          },
          "execution_count": 15
        }
      ]
    },
    {
      "cell_type": "code",
      "metadata": {
        "colab": {
          "base_uri": "https://localhost:8080/"
        },
        "id": "jw6jtwpM8hk2",
        "outputId": "973e5d9b-1402-445c-bf86-bbc9215c3f85"
      },
      "source": [
        "users.values"
      ],
      "execution_count": 17,
      "outputs": [
        {
          "output_type": "execute_result",
          "data": {
            "text/plain": [
              "array([['Ujjwal', '21', 'M', 'Student'],\n",
              "       ['Samar', '20', 'M', 'Student'],\n",
              "       ['Sahil', '22', 'M', 'Student'],\n",
              "       ['Suryansh', '19', 'M', 'Manager'],\n",
              "       ['Rahul', 33, 'M', 'engineer'],\n",
              "       ['Rimmy', 44, 'F', 'scientist']], dtype=object)"
            ]
          },
          "metadata": {
            "tags": []
          },
          "execution_count": 17
        }
      ]
    },
    {
      "cell_type": "code",
      "metadata": {
        "colab": {
          "base_uri": "https://localhost:8080/"
        },
        "id": "eFINAF_78vhH",
        "outputId": "47958324-5368-4aae-f40e-ff04ef5a7cf9"
      },
      "source": [
        "users['gender'] # select on column"
      ],
      "execution_count": 18,
      "outputs": [
        {
          "output_type": "execute_result",
          "data": {
            "text/plain": [
              "0    M\n",
              "1    M\n",
              "0    M\n",
              "1    M\n",
              "0    M\n",
              "1    F\n",
              "Name: gender, dtype: object"
            ]
          },
          "metadata": {
            "tags": []
          },
          "execution_count": 18
        }
      ]
    },
    {
      "cell_type": "code",
      "metadata": {
        "colab": {
          "base_uri": "https://localhost:8080/"
        },
        "id": "ldHtwXnc89SW",
        "outputId": "f7e7999b-7ff4-450b-c15d-0b7b306599e5"
      },
      "source": [
        "type(users['gender']) #Series"
      ],
      "execution_count": 19,
      "outputs": [
        {
          "output_type": "execute_result",
          "data": {
            "text/plain": [
              "pandas.core.series.Series"
            ]
          },
          "metadata": {
            "tags": []
          },
          "execution_count": 19
        }
      ]
    },
    {
      "cell_type": "code",
      "metadata": {
        "colab": {
          "base_uri": "https://localhost:8080/"
        },
        "id": "0m7rkqXy9ak4",
        "outputId": "cbea33b9-54a3-42e5-fd18-9ccf8fb3d7db"
      },
      "source": [
        "users.gender #select column"
      ],
      "execution_count": 20,
      "outputs": [
        {
          "output_type": "execute_result",
          "data": {
            "text/plain": [
              "0    M\n",
              "1    M\n",
              "0    M\n",
              "1    M\n",
              "0    M\n",
              "1    F\n",
              "Name: gender, dtype: object"
            ]
          },
          "metadata": {
            "tags": []
          },
          "execution_count": 20
        }
      ]
    },
    {
      "cell_type": "code",
      "metadata": {
        "colab": {
          "base_uri": "https://localhost:8080/",
          "height": 235
        },
        "id": "0YuWBRUV9il-",
        "outputId": "454eca56-3de0-4c15-dbc2-a4a56076339f"
      },
      "source": [
        "#select multiple columns\r\n",
        "users[['age','gender']] #select two columns"
      ],
      "execution_count": 21,
      "outputs": [
        {
          "output_type": "execute_result",
          "data": {
            "text/html": [
              "<div>\n",
              "<style scoped>\n",
              "    .dataframe tbody tr th:only-of-type {\n",
              "        vertical-align: middle;\n",
              "    }\n",
              "\n",
              "    .dataframe tbody tr th {\n",
              "        vertical-align: top;\n",
              "    }\n",
              "\n",
              "    .dataframe thead th {\n",
              "        text-align: right;\n",
              "    }\n",
              "</style>\n",
              "<table border=\"1\" class=\"dataframe\">\n",
              "  <thead>\n",
              "    <tr style=\"text-align: right;\">\n",
              "      <th></th>\n",
              "      <th>age</th>\n",
              "      <th>gender</th>\n",
              "    </tr>\n",
              "  </thead>\n",
              "  <tbody>\n",
              "    <tr>\n",
              "      <th>0</th>\n",
              "      <td>21</td>\n",
              "      <td>M</td>\n",
              "    </tr>\n",
              "    <tr>\n",
              "      <th>1</th>\n",
              "      <td>20</td>\n",
              "      <td>M</td>\n",
              "    </tr>\n",
              "    <tr>\n",
              "      <th>0</th>\n",
              "      <td>22</td>\n",
              "      <td>M</td>\n",
              "    </tr>\n",
              "    <tr>\n",
              "      <th>1</th>\n",
              "      <td>19</td>\n",
              "      <td>M</td>\n",
              "    </tr>\n",
              "    <tr>\n",
              "      <th>0</th>\n",
              "      <td>33</td>\n",
              "      <td>M</td>\n",
              "    </tr>\n",
              "    <tr>\n",
              "      <th>1</th>\n",
              "      <td>44</td>\n",
              "      <td>F</td>\n",
              "    </tr>\n",
              "  </tbody>\n",
              "</table>\n",
              "</div>"
            ],
            "text/plain": [
              "  age gender\n",
              "0  21      M\n",
              "1  20      M\n",
              "0  22      M\n",
              "1  19      M\n",
              "0  33      M\n",
              "1  44      F"
            ]
          },
          "metadata": {
            "tags": []
          },
          "execution_count": 21
        }
      ]
    },
    {
      "cell_type": "code",
      "metadata": {
        "colab": {
          "base_uri": "https://localhost:8080/",
          "height": 235
        },
        "id": "Ap4TKkos9-FP",
        "outputId": "80fff7ea-16ee-4789-8de2-96e5e762e80e"
      },
      "source": [
        "my_cols = ['age','gender'] #or , create a list...\r\n",
        "users[my_cols] # ...and use that list to select columns "
      ],
      "execution_count": 26,
      "outputs": [
        {
          "output_type": "execute_result",
          "data": {
            "text/html": [
              "<div>\n",
              "<style scoped>\n",
              "    .dataframe tbody tr th:only-of-type {\n",
              "        vertical-align: middle;\n",
              "    }\n",
              "\n",
              "    .dataframe tbody tr th {\n",
              "        vertical-align: top;\n",
              "    }\n",
              "\n",
              "    .dataframe thead th {\n",
              "        text-align: right;\n",
              "    }\n",
              "</style>\n",
              "<table border=\"1\" class=\"dataframe\">\n",
              "  <thead>\n",
              "    <tr style=\"text-align: right;\">\n",
              "      <th></th>\n",
              "      <th>age</th>\n",
              "      <th>gender</th>\n",
              "    </tr>\n",
              "  </thead>\n",
              "  <tbody>\n",
              "    <tr>\n",
              "      <th>0</th>\n",
              "      <td>21</td>\n",
              "      <td>M</td>\n",
              "    </tr>\n",
              "    <tr>\n",
              "      <th>1</th>\n",
              "      <td>20</td>\n",
              "      <td>M</td>\n",
              "    </tr>\n",
              "    <tr>\n",
              "      <th>0</th>\n",
              "      <td>22</td>\n",
              "      <td>M</td>\n",
              "    </tr>\n",
              "    <tr>\n",
              "      <th>1</th>\n",
              "      <td>19</td>\n",
              "      <td>M</td>\n",
              "    </tr>\n",
              "    <tr>\n",
              "      <th>0</th>\n",
              "      <td>33</td>\n",
              "      <td>M</td>\n",
              "    </tr>\n",
              "    <tr>\n",
              "      <th>1</th>\n",
              "      <td>44</td>\n",
              "      <td>F</td>\n",
              "    </tr>\n",
              "  </tbody>\n",
              "</table>\n",
              "</div>"
            ],
            "text/plain": [
              "  age gender\n",
              "0  21      M\n",
              "1  20      M\n",
              "0  22      M\n",
              "1  19      M\n",
              "0  33      M\n",
              "1  44      F"
            ]
          },
          "metadata": {
            "tags": []
          },
          "execution_count": 26
        }
      ]
    },
    {
      "cell_type": "code",
      "metadata": {
        "colab": {
          "base_uri": "https://localhost:8080/"
        },
        "id": "cm45yRCE_OKx",
        "outputId": "4de00223-52e5-4f39-a581-bc5c83c89267"
      },
      "source": [
        "df = users.copy()\r\n",
        "df.iloc[0] # first row"
      ],
      "execution_count": 27,
      "outputs": [
        {
          "output_type": "execute_result",
          "data": {
            "text/plain": [
              "name       Ujjwal\n",
              "age            21\n",
              "gender          M\n",
              "job       Student\n",
              "Name: 0, dtype: object"
            ]
          },
          "metadata": {
            "tags": []
          },
          "execution_count": 27
        }
      ]
    },
    {
      "cell_type": "code",
      "metadata": {
        "colab": {
          "base_uri": "https://localhost:8080/",
          "height": 35
        },
        "id": "zEELrsFV_gwf",
        "outputId": "085d2e17-4c02-48be-a43d-e69f714d9b12"
      },
      "source": [
        "df.iloc[0,0] # first item of first row"
      ],
      "execution_count": 28,
      "outputs": [
        {
          "output_type": "execute_result",
          "data": {
            "application/vnd.google.colaboratory.intrinsic+json": {
              "type": "string"
            },
            "text/plain": [
              "'Ujjwal'"
            ]
          },
          "metadata": {
            "tags": []
          },
          "execution_count": 28
        }
      ]
    },
    {
      "cell_type": "code",
      "metadata": {
        "colab": {
          "base_uri": "https://localhost:8080/",
          "height": 204
        },
        "id": "p1cqZlUU_rmP",
        "outputId": "774287b1-7f82-44b2-e543-dedbc6e45850"
      },
      "source": [
        "users[users.age<40] # show user with age < 40"
      ],
      "execution_count": 38,
      "outputs": [
        {
          "output_type": "execute_result",
          "data": {
            "text/html": [
              "<div>\n",
              "<style scoped>\n",
              "    .dataframe tbody tr th:only-of-type {\n",
              "        vertical-align: middle;\n",
              "    }\n",
              "\n",
              "    .dataframe tbody tr th {\n",
              "        vertical-align: top;\n",
              "    }\n",
              "\n",
              "    .dataframe thead th {\n",
              "        text-align: right;\n",
              "    }\n",
              "</style>\n",
              "<table border=\"1\" class=\"dataframe\">\n",
              "  <thead>\n",
              "    <tr style=\"text-align: right;\">\n",
              "      <th></th>\n",
              "      <th>name</th>\n",
              "      <th>age</th>\n",
              "      <th>gender</th>\n",
              "      <th>job</th>\n",
              "    </tr>\n",
              "  </thead>\n",
              "  <tbody>\n",
              "    <tr>\n",
              "      <th>0</th>\n",
              "      <td>Ujjwal</td>\n",
              "      <td>21</td>\n",
              "      <td>M</td>\n",
              "      <td>Student</td>\n",
              "    </tr>\n",
              "    <tr>\n",
              "      <th>1</th>\n",
              "      <td>Samar</td>\n",
              "      <td>20</td>\n",
              "      <td>M</td>\n",
              "      <td>Student</td>\n",
              "    </tr>\n",
              "    <tr>\n",
              "      <th>0</th>\n",
              "      <td>Sahil</td>\n",
              "      <td>22</td>\n",
              "      <td>M</td>\n",
              "      <td>Student</td>\n",
              "    </tr>\n",
              "    <tr>\n",
              "      <th>1</th>\n",
              "      <td>Suryansh</td>\n",
              "      <td>19</td>\n",
              "      <td>M</td>\n",
              "      <td>Manager</td>\n",
              "    </tr>\n",
              "    <tr>\n",
              "      <th>0</th>\n",
              "      <td>Rahul</td>\n",
              "      <td>33</td>\n",
              "      <td>M</td>\n",
              "      <td>engineer</td>\n",
              "    </tr>\n",
              "  </tbody>\n",
              "</table>\n",
              "</div>"
            ],
            "text/plain": [
              "       name  age gender       job\n",
              "0    Ujjwal   21      M   Student\n",
              "1     Samar   20      M   Student\n",
              "0     Sahil   22      M   Student\n",
              "1  Suryansh   19      M   Manager\n",
              "0     Rahul   33      M  engineer"
            ]
          },
          "metadata": {
            "tags": []
          },
          "execution_count": 38
        }
      ]
    },
    {
      "cell_type": "code",
      "metadata": {
        "colab": {
          "base_uri": "https://localhost:8080/",
          "height": 204
        },
        "id": "sZvh6Im0AICG",
        "outputId": "8cec4ef9-3d2d-446b-8130-6a59d16fc5d7"
      },
      "source": [
        "users[users.age<40][['age','job']] #select multiple column"
      ],
      "execution_count": 39,
      "outputs": [
        {
          "output_type": "execute_result",
          "data": {
            "text/html": [
              "<div>\n",
              "<style scoped>\n",
              "    .dataframe tbody tr th:only-of-type {\n",
              "        vertical-align: middle;\n",
              "    }\n",
              "\n",
              "    .dataframe tbody tr th {\n",
              "        vertical-align: top;\n",
              "    }\n",
              "\n",
              "    .dataframe thead th {\n",
              "        text-align: right;\n",
              "    }\n",
              "</style>\n",
              "<table border=\"1\" class=\"dataframe\">\n",
              "  <thead>\n",
              "    <tr style=\"text-align: right;\">\n",
              "      <th></th>\n",
              "      <th>age</th>\n",
              "      <th>job</th>\n",
              "    </tr>\n",
              "  </thead>\n",
              "  <tbody>\n",
              "    <tr>\n",
              "      <th>0</th>\n",
              "      <td>21</td>\n",
              "      <td>Student</td>\n",
              "    </tr>\n",
              "    <tr>\n",
              "      <th>1</th>\n",
              "      <td>20</td>\n",
              "      <td>Student</td>\n",
              "    </tr>\n",
              "    <tr>\n",
              "      <th>0</th>\n",
              "      <td>22</td>\n",
              "      <td>Student</td>\n",
              "    </tr>\n",
              "    <tr>\n",
              "      <th>1</th>\n",
              "      <td>19</td>\n",
              "      <td>Manager</td>\n",
              "    </tr>\n",
              "    <tr>\n",
              "      <th>0</th>\n",
              "      <td>33</td>\n",
              "      <td>engineer</td>\n",
              "    </tr>\n",
              "  </tbody>\n",
              "</table>\n",
              "</div>"
            ],
            "text/plain": [
              "   age       job\n",
              "0   21   Student\n",
              "1   20   Student\n",
              "0   22   Student\n",
              "1   19   Manager\n",
              "0   33  engineer"
            ]
          },
          "metadata": {
            "tags": []
          },
          "execution_count": 39
        }
      ]
    },
    {
      "cell_type": "code",
      "metadata": {
        "colab": {
          "base_uri": "https://localhost:8080/",
          "height": 173
        },
        "id": "wBcRNVBfBRg5",
        "outputId": "0c0d24b7-f34e-4112-ff8b-d3379490e88a"
      },
      "source": [
        "users[users.job.isin(['Student','engineer'])] #filter specific value"
      ],
      "execution_count": 41,
      "outputs": [
        {
          "output_type": "execute_result",
          "data": {
            "text/html": [
              "<div>\n",
              "<style scoped>\n",
              "    .dataframe tbody tr th:only-of-type {\n",
              "        vertical-align: middle;\n",
              "    }\n",
              "\n",
              "    .dataframe tbody tr th {\n",
              "        vertical-align: top;\n",
              "    }\n",
              "\n",
              "    .dataframe thead th {\n",
              "        text-align: right;\n",
              "    }\n",
              "</style>\n",
              "<table border=\"1\" class=\"dataframe\">\n",
              "  <thead>\n",
              "    <tr style=\"text-align: right;\">\n",
              "      <th></th>\n",
              "      <th>name</th>\n",
              "      <th>age</th>\n",
              "      <th>gender</th>\n",
              "      <th>job</th>\n",
              "    </tr>\n",
              "  </thead>\n",
              "  <tbody>\n",
              "    <tr>\n",
              "      <th>0</th>\n",
              "      <td>Ujjwal</td>\n",
              "      <td>21</td>\n",
              "      <td>M</td>\n",
              "      <td>Student</td>\n",
              "    </tr>\n",
              "    <tr>\n",
              "      <th>1</th>\n",
              "      <td>Samar</td>\n",
              "      <td>20</td>\n",
              "      <td>M</td>\n",
              "      <td>Student</td>\n",
              "    </tr>\n",
              "    <tr>\n",
              "      <th>0</th>\n",
              "      <td>Sahil</td>\n",
              "      <td>22</td>\n",
              "      <td>M</td>\n",
              "      <td>Student</td>\n",
              "    </tr>\n",
              "    <tr>\n",
              "      <th>0</th>\n",
              "      <td>Rahul</td>\n",
              "      <td>33</td>\n",
              "      <td>M</td>\n",
              "      <td>engineer</td>\n",
              "    </tr>\n",
              "  </tbody>\n",
              "</table>\n",
              "</div>"
            ],
            "text/plain": [
              "     name  age gender       job\n",
              "0  Ujjwal   21      M   Student\n",
              "1   Samar   20      M   Student\n",
              "0   Sahil   22      M   Student\n",
              "0   Rahul   33      M  engineer"
            ]
          },
          "metadata": {
            "tags": []
          },
          "execution_count": 41
        }
      ]
    },
    {
      "cell_type": "code",
      "metadata": {
        "colab": {
          "base_uri": "https://localhost:8080/"
        },
        "id": "wUYq8R7xCyKC",
        "outputId": "7ede229b-d696-47a0-b599-9da30d541c07"
      },
      "source": [
        "df = users.copy()\r\n",
        "df.age.sort_values() #only works for a series"
      ],
      "execution_count": 42,
      "outputs": [
        {
          "output_type": "execute_result",
          "data": {
            "text/plain": [
              "1    19\n",
              "1    20\n",
              "0    21\n",
              "0    22\n",
              "0    33\n",
              "1    44\n",
              "Name: age, dtype: int64"
            ]
          },
          "metadata": {
            "tags": []
          },
          "execution_count": 42
        }
      ]
    },
    {
      "cell_type": "code",
      "metadata": {
        "colab": {
          "base_uri": "https://localhost:8080/",
          "height": 235
        },
        "id": "QIxWiYovDYgD",
        "outputId": "67018905-b23a-46ec-fd7c-94f00f4f51a8"
      },
      "source": [
        "df.sort_values(by='age', ascending=False) #use descending order instead"
      ],
      "execution_count": 43,
      "outputs": [
        {
          "output_type": "execute_result",
          "data": {
            "text/html": [
              "<div>\n",
              "<style scoped>\n",
              "    .dataframe tbody tr th:only-of-type {\n",
              "        vertical-align: middle;\n",
              "    }\n",
              "\n",
              "    .dataframe tbody tr th {\n",
              "        vertical-align: top;\n",
              "    }\n",
              "\n",
              "    .dataframe thead th {\n",
              "        text-align: right;\n",
              "    }\n",
              "</style>\n",
              "<table border=\"1\" class=\"dataframe\">\n",
              "  <thead>\n",
              "    <tr style=\"text-align: right;\">\n",
              "      <th></th>\n",
              "      <th>name</th>\n",
              "      <th>age</th>\n",
              "      <th>gender</th>\n",
              "      <th>job</th>\n",
              "    </tr>\n",
              "  </thead>\n",
              "  <tbody>\n",
              "    <tr>\n",
              "      <th>1</th>\n",
              "      <td>Rimmy</td>\n",
              "      <td>44</td>\n",
              "      <td>F</td>\n",
              "      <td>scientist</td>\n",
              "    </tr>\n",
              "    <tr>\n",
              "      <th>0</th>\n",
              "      <td>Rahul</td>\n",
              "      <td>33</td>\n",
              "      <td>M</td>\n",
              "      <td>engineer</td>\n",
              "    </tr>\n",
              "    <tr>\n",
              "      <th>0</th>\n",
              "      <td>Sahil</td>\n",
              "      <td>22</td>\n",
              "      <td>M</td>\n",
              "      <td>Student</td>\n",
              "    </tr>\n",
              "    <tr>\n",
              "      <th>0</th>\n",
              "      <td>Ujjwal</td>\n",
              "      <td>21</td>\n",
              "      <td>M</td>\n",
              "      <td>Student</td>\n",
              "    </tr>\n",
              "    <tr>\n",
              "      <th>1</th>\n",
              "      <td>Samar</td>\n",
              "      <td>20</td>\n",
              "      <td>M</td>\n",
              "      <td>Student</td>\n",
              "    </tr>\n",
              "    <tr>\n",
              "      <th>1</th>\n",
              "      <td>Suryansh</td>\n",
              "      <td>19</td>\n",
              "      <td>M</td>\n",
              "      <td>Manager</td>\n",
              "    </tr>\n",
              "  </tbody>\n",
              "</table>\n",
              "</div>"
            ],
            "text/plain": [
              "       name  age gender        job\n",
              "1     Rimmy   44      F  scientist\n",
              "0     Rahul   33      M   engineer\n",
              "0     Sahil   22      M    Student\n",
              "0    Ujjwal   21      M    Student\n",
              "1     Samar   20      M    Student\n",
              "1  Suryansh   19      M    Manager"
            ]
          },
          "metadata": {
            "tags": []
          },
          "execution_count": 43
        }
      ]
    },
    {
      "cell_type": "code",
      "metadata": {
        "colab": {
          "base_uri": "https://localhost:8080/",
          "height": 235
        },
        "id": "_2EStsywDoSI",
        "outputId": "be8df468-f1db-4b3f-bff1-d11d0b1dbceb"
      },
      "source": [
        "df.sort_values(by=['job','age']) # sort by multiple column"
      ],
      "execution_count": 44,
      "outputs": [
        {
          "output_type": "execute_result",
          "data": {
            "text/html": [
              "<div>\n",
              "<style scoped>\n",
              "    .dataframe tbody tr th:only-of-type {\n",
              "        vertical-align: middle;\n",
              "    }\n",
              "\n",
              "    .dataframe tbody tr th {\n",
              "        vertical-align: top;\n",
              "    }\n",
              "\n",
              "    .dataframe thead th {\n",
              "        text-align: right;\n",
              "    }\n",
              "</style>\n",
              "<table border=\"1\" class=\"dataframe\">\n",
              "  <thead>\n",
              "    <tr style=\"text-align: right;\">\n",
              "      <th></th>\n",
              "      <th>name</th>\n",
              "      <th>age</th>\n",
              "      <th>gender</th>\n",
              "      <th>job</th>\n",
              "    </tr>\n",
              "  </thead>\n",
              "  <tbody>\n",
              "    <tr>\n",
              "      <th>1</th>\n",
              "      <td>Suryansh</td>\n",
              "      <td>19</td>\n",
              "      <td>M</td>\n",
              "      <td>Manager</td>\n",
              "    </tr>\n",
              "    <tr>\n",
              "      <th>1</th>\n",
              "      <td>Samar</td>\n",
              "      <td>20</td>\n",
              "      <td>M</td>\n",
              "      <td>Student</td>\n",
              "    </tr>\n",
              "    <tr>\n",
              "      <th>0</th>\n",
              "      <td>Ujjwal</td>\n",
              "      <td>21</td>\n",
              "      <td>M</td>\n",
              "      <td>Student</td>\n",
              "    </tr>\n",
              "    <tr>\n",
              "      <th>0</th>\n",
              "      <td>Sahil</td>\n",
              "      <td>22</td>\n",
              "      <td>M</td>\n",
              "      <td>Student</td>\n",
              "    </tr>\n",
              "    <tr>\n",
              "      <th>0</th>\n",
              "      <td>Rahul</td>\n",
              "      <td>33</td>\n",
              "      <td>M</td>\n",
              "      <td>engineer</td>\n",
              "    </tr>\n",
              "    <tr>\n",
              "      <th>1</th>\n",
              "      <td>Rimmy</td>\n",
              "      <td>44</td>\n",
              "      <td>F</td>\n",
              "      <td>scientist</td>\n",
              "    </tr>\n",
              "  </tbody>\n",
              "</table>\n",
              "</div>"
            ],
            "text/plain": [
              "       name  age gender        job\n",
              "1  Suryansh   19      M    Manager\n",
              "1     Samar   20      M    Student\n",
              "0    Ujjwal   21      M    Student\n",
              "0     Sahil   22      M    Student\n",
              "0     Rahul   33      M   engineer\n",
              "1     Rimmy   44      F  scientist"
            ]
          },
          "metadata": {
            "tags": []
          },
          "execution_count": 44
        }
      ]
    },
    {
      "cell_type": "markdown",
      "metadata": {
        "id": "_5ZE26qaEqmR"
      },
      "source": [
        "Descriptive Stats(Summerize all numeric columns)"
      ]
    },
    {
      "cell_type": "code",
      "metadata": {
        "colab": {
          "base_uri": "https://localhost:8080/"
        },
        "id": "HofCvFsbEP5Z",
        "outputId": "759b67b3-6f94-498d-c3fe-9ffe496487d7"
      },
      "source": [
        "print(df.describe())"
      ],
      "execution_count": 45,
      "outputs": [
        {
          "output_type": "stream",
          "text": [
            "             age\n",
            "count   6.000000\n",
            "mean   26.500000\n",
            "std     9.974969\n",
            "min    19.000000\n",
            "25%    20.250000\n",
            "50%    21.500000\n",
            "75%    30.250000\n",
            "max    44.000000\n"
          ],
          "name": "stdout"
        }
      ]
    },
    {
      "cell_type": "code",
      "metadata": {
        "colab": {
          "base_uri": "https://localhost:8080/"
        },
        "id": "tScNBvzTE0wC",
        "outputId": "30ec01c0-ca68-46c5-94e2-0040f825f35e"
      },
      "source": [
        "print(df.describe(include='all'))"
      ],
      "execution_count": 46,
      "outputs": [
        {
          "output_type": "stream",
          "text": [
            "         name        age gender      job\n",
            "count       6   6.000000      6        6\n",
            "unique      6        NaN      2        4\n",
            "top     Rahul        NaN      M  Student\n",
            "freq        1        NaN      5        3\n",
            "mean      NaN  26.500000    NaN      NaN\n",
            "std       NaN   9.974969    NaN      NaN\n",
            "min       NaN  19.000000    NaN      NaN\n",
            "25%       NaN  20.250000    NaN      NaN\n",
            "50%       NaN  21.500000    NaN      NaN\n",
            "75%       NaN  30.250000    NaN      NaN\n",
            "max       NaN  44.000000    NaN      NaN\n"
          ],
          "name": "stdout"
        }
      ]
    },
    {
      "cell_type": "code",
      "metadata": {
        "colab": {
          "base_uri": "https://localhost:8080/"
        },
        "id": "3SxNaiMiFJQR",
        "outputId": "474cdd62-770d-4f34-d5bc-a75165fe3889"
      },
      "source": [
        "df = users.append(df.iloc[0], ignore_index=True)\r\n",
        "print(df.duplicated())# series of booleans\r\n",
        "# (True if a row is identical to previous row)"
      ],
      "execution_count": 47,
      "outputs": [
        {
          "output_type": "stream",
          "text": [
            "0    False\n",
            "1    False\n",
            "2    False\n",
            "3    False\n",
            "4    False\n",
            "5    False\n",
            "6     True\n",
            "dtype: bool\n"
          ],
          "name": "stdout"
        }
      ]
    },
    {
      "cell_type": "code",
      "metadata": {
        "colab": {
          "base_uri": "https://localhost:8080/"
        },
        "id": "zAUeD0seFnQD",
        "outputId": "5c9ba20c-5b9e-4cd1-d5c6-d639577b9aaf"
      },
      "source": [
        "df.duplicated().sum() #count of duplicates"
      ],
      "execution_count": 49,
      "outputs": [
        {
          "output_type": "execute_result",
          "data": {
            "text/plain": [
              "1"
            ]
          },
          "metadata": {
            "tags": []
          },
          "execution_count": 49
        }
      ]
    },
    {
      "cell_type": "code",
      "metadata": {
        "colab": {
          "base_uri": "https://localhost:8080/",
          "height": 80
        },
        "id": "XQgJzwk8FsVa",
        "outputId": "6fe48985-6436-4ce1-e174-ee170779bac5"
      },
      "source": [
        "df[df.duplicated()] #only show duplicates"
      ],
      "execution_count": 52,
      "outputs": [
        {
          "output_type": "execute_result",
          "data": {
            "text/html": [
              "<div>\n",
              "<style scoped>\n",
              "    .dataframe tbody tr th:only-of-type {\n",
              "        vertical-align: middle;\n",
              "    }\n",
              "\n",
              "    .dataframe tbody tr th {\n",
              "        vertical-align: top;\n",
              "    }\n",
              "\n",
              "    .dataframe thead th {\n",
              "        text-align: right;\n",
              "    }\n",
              "</style>\n",
              "<table border=\"1\" class=\"dataframe\">\n",
              "  <thead>\n",
              "    <tr style=\"text-align: right;\">\n",
              "      <th></th>\n",
              "      <th>name</th>\n",
              "      <th>age</th>\n",
              "      <th>gender</th>\n",
              "      <th>job</th>\n",
              "    </tr>\n",
              "  </thead>\n",
              "  <tbody>\n",
              "    <tr>\n",
              "      <th>6</th>\n",
              "      <td>Ujjwal</td>\n",
              "      <td>21</td>\n",
              "      <td>M</td>\n",
              "      <td>Student</td>\n",
              "    </tr>\n",
              "  </tbody>\n",
              "</table>\n",
              "</div>"
            ],
            "text/plain": [
              "     name  age gender      job\n",
              "6  Ujjwal   21      M  Student"
            ]
          },
          "metadata": {
            "tags": []
          },
          "execution_count": 52
        }
      ]
    },
    {
      "cell_type": "code",
      "metadata": {
        "colab": {
          "base_uri": "https://localhost:8080/"
        },
        "id": "fZ1V_rmgGWqT",
        "outputId": "84beca26-743a-4baa-f7d0-450d4ff6d1ff"
      },
      "source": [
        "df=df.drop_duplicates()\r\n",
        "print(df)"
      ],
      "execution_count": 53,
      "outputs": [
        {
          "output_type": "stream",
          "text": [
            "       name  age gender        job\n",
            "0    Ujjwal   21      M    Student\n",
            "1     Samar   20      M    Student\n",
            "2     Sahil   22      M    Student\n",
            "3  Suryansh   19      M    Manager\n",
            "4     Rahul   33      M   engineer\n",
            "5     Rimmy   44      F  scientist\n"
          ],
          "name": "stdout"
        }
      ]
    }
  ]
}