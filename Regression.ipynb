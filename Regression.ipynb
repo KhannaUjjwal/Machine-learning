{
  "nbformat": 4,
  "nbformat_minor": 0,
  "metadata": {
    "colab": {
      "name": "Untitled1.ipynb",
      "provenance": [],
      "collapsed_sections": [],
      "authorship_tag": "ABX9TyNceMbb8nMcUoW6fQ8cWL3Q",
      "include_colab_link": true
    },
    "kernelspec": {
      "name": "python3",
      "display_name": "Python 3"
    }
  },
  "cells": [
    {
      "cell_type": "markdown",
      "metadata": {
        "id": "view-in-github",
        "colab_type": "text"
      },
      "source": [
        "<a href=\"https://colab.research.google.com/github/KhannaUjjwal/Machine-learning/blob/main/Regression.ipynb\" target=\"_parent\"><img src=\"https://colab.research.google.com/assets/colab-badge.svg\" alt=\"Open In Colab\"/></a>"
      ]
    },
    {
      "cell_type": "code",
      "metadata": {
        "id": "Ha79umjg6Bk9"
      },
      "source": [
        "import pandas as pd \r\n",
        "import numpy as np\r\n",
        "import matplotlib.pylot as plt\r\n",
        "from google.colab import files\r\n",
        "from sklearn.model_selection import train_test_split\r\n",
        "from sklearn.linear_model import LinearRegression\r\n",
        "\r\n",
        "uploaded = files.upload()\r\n",
        "import io\r\n",
        "\r\n",
        "df = pd.read_csv(io.BytesIO(uploaded['salaries.csv']))\r\n",
        "print(df)\r\n",
        "x=df.iloc[:,:-1].values\r\n",
        "y=df.iloc[:,1].values\r\n",
        "print(x)\r\n",
        "print(y)\r\n",
        "\r\n",
        "linearRegressor = LinearRegression()\r\n",
        "linearRegressor.fit(x, y)\r\n",
        "yPrediction = linearRegressor.predict(x)\r\n",
        "print(yPrediction)\r\n",
        "plot.scatter(x, y,color = 'red')\r\n",
        "plot.plot(x, linearRegressor.predict(x), color = 'blue')\r\n",
        "plot.title('Simple Linear Regression - Experience vs Salary')\r\n",
        "plot.xlabel('Experience')\r\n",
        "plot.ylabel('Salary')\r\n",
        "plot.show()\r\n",
        "linearRegressor.score(x,y)\r\n",
        "linearRegressor.coef_"
      ],
      "execution_count": null,
      "outputs": []
    }
  ]
}